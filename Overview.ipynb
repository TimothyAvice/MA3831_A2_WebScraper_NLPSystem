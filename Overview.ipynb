{
 "cells": [
  {
   "cell_type": "markdown",
   "metadata": {
    "collapsed": true,
    "pycharm": {
     "name": "#%% md\n"
    }
   },
   "source": [
    "# Overview\n",
    "\n",
    "When going to purchase a new laptop most users only factor in the pricing and whatever the employee at the store\n",
    "helping them says. These employees often will only illustrate the positives of the device without even bringing up the\n",
    "downsides/issues that may be present. The way in which this problem will be addressed within is an analysis of the\n",
    "different brands on the market and how positively these are viewed. It will create an overall breakdown of the positive,\n",
    "neutral and negative outlook rating that each brand may have which will be created irrespective of the price of the\n",
    "laptop.\n",
    "\n",
    "To accomplish this a Webscraper will be used to gather data which will be filtered into two different NLP tasks. The\n",
    "Webscraper will be set up to gather written reviews for many different laptops from a range of brands. It will segment\n",
    "these reviews based on the section titles to create a dataset that can be further divided down into subcategories for\n",
    "better analysis during the NLP tasks. Another Webscraper will also be used on a different website that will instead\n",
    "collect pure specification information for many laptops. This specification information will not be used for the NLP\n",
    "tasks as it is mostly purely Boolean and numerical data, but it can be used by other members in a team in conjunction\n",
    "with the outputs from the NLP to better approach the problem.\n",
    "\n",
    "Once the data has been gathered by the webscraper it will be run through two separate NLP tasks. The first task will\n",
    "extract the brand name from the title of the review. This will be done using Name entity recognition which analyses\n",
    "sentences and tags words based on the context that the word is used in. Once done it will be supplemented into the\n",
    "original dataset. The second task is the actual assessment of the review and determining the outlook. Sentiment analysis\n",
    "is an NLP task that assesses the sentiment of a sentence and provides a number that illustrates the overall sentiment of\n",
    "the sentence. This will also be appended to the original data set which once done can be used in a latter stage in\n",
    "conjunction with other techniques to create the solution outlined."
   ]
  }
 ],
 "metadata": {
  "kernelspec": {
   "display_name": "Python 3",
   "language": "python",
   "name": "python3"
  },
  "language_info": {
   "codemirror_mode": {
    "name": "ipython",
    "version": 2
   },
   "file_extension": ".py",
   "mimetype": "text/x-python",
   "name": "python",
   "nbconvert_exporter": "python",
   "pygments_lexer": "ipython2",
   "version": "2.7.6"
  }
 },
 "nbformat": 4,
 "nbformat_minor": 0
}